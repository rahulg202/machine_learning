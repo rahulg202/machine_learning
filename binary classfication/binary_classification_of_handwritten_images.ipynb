{
  "nbformat": 4,
  "nbformat_minor": 0,
  "metadata": {
    "colab": {
      "provenance": []
    },
    "kernelspec": {
      "name": "python3",
      "display_name": "Python 3"
    },
    "language_info": {
      "name": "python"
    }
  },
  "cells": [
    {
      "cell_type": "markdown",
      "source": [
        "# **Binary Classification using tensorflow**"
      ],
      "metadata": {
        "id": "T8HdChtJLive"
      }
    },
    {
      "cell_type": "code",
      "execution_count": 10,
      "metadata": {
        "id": "nOvsulv0-Z7X"
      },
      "outputs": [],
      "source": [
        "import numpy as np\n",
        "import pandas as pd\n",
        "import matplotlib.pyplot as plt\n",
        "%matplotlib inline\n",
        "import tensorflow as tf\n",
        "from tensorflow.keras.models import Sequential\n",
        "from tensorflow.keras.layers import Dense\n",
        "import logging\n",
        "logging.getLogger(\"tensorflow\").setLevel(logging.ERROR)\n",
        "tf.autograph.set_verbosity(0)"
      ]
    },
    {
      "cell_type": "code",
      "source": [
        "X = np.load(\"/content/X.npy\")\n",
        "y = np.load(\"/content/y.npy\")\n",
        "X = X[0:1000]\n",
        "y = y[0:1000]\n",
        "print(X.shape, y.shape)"
      ],
      "metadata": {
        "colab": {
          "base_uri": "https://localhost:8080/"
        },
        "id": "8SeaoJ-J_-Rv",
        "outputId": "eb29036c-0dc3-4615-ffe5-15387d4283e3"
      },
      "execution_count": 11,
      "outputs": [
        {
          "output_type": "stream",
          "name": "stdout",
          "text": [
            "(1000, 400) (1000, 1)\n"
          ]
        }
      ]
    },
    {
      "cell_type": "code",
      "source": [
        "# the data is already preprocessed so no preprocessing is required"
      ],
      "metadata": {
        "id": "iFGVmTRVARXA"
      },
      "execution_count": 12,
      "outputs": []
    },
    {
      "cell_type": "code",
      "source": [
        "model= Sequential([\n",
        "    tf.keras.Input(shape=(400,)),\n",
        "    Dense(units=25,activation='sigmoid',name='layer1'),\n",
        "    Dense(units=15,activation='sigmoid',name='layer2'),\n",
        "    Dense(units=1,activation='sigmoid',name='layer3')\n",
        "])"
      ],
      "metadata": {
        "id": "OIGXrpBqBD5L"
      },
      "execution_count": 15,
      "outputs": []
    },
    {
      "cell_type": "code",
      "source": [
        "model.summary()"
      ],
      "metadata": {
        "colab": {
          "base_uri": "https://localhost:8080/"
        },
        "id": "y56NfxbECId7",
        "outputId": "efb0a308-a4c1-4560-9a70-717967bfaaa3"
      },
      "execution_count": 16,
      "outputs": [
        {
          "output_type": "stream",
          "name": "stdout",
          "text": [
            "Model: \"sequential_1\"\n",
            "_________________________________________________________________\n",
            " Layer (type)                Output Shape              Param #   \n",
            "=================================================================\n",
            " layer1 (Dense)              (None, 25)                10025     \n",
            "                                                                 \n",
            " layer2 (Dense)              (None, 15)                390       \n",
            "                                                                 \n",
            " layer3 (Dense)              (None, 1)                 16        \n",
            "                                                                 \n",
            "=================================================================\n",
            "Total params: 10431 (40.75 KB)\n",
            "Trainable params: 10431 (40.75 KB)\n",
            "Non-trainable params: 0 (0.00 Byte)\n",
            "_________________________________________________________________\n"
          ]
        }
      ]
    },
    {
      "cell_type": "code",
      "source": [
        "w1,b1= model.get_layer('layer1').get_weights()\n",
        "w2,b2=model.get_layer('layer2').get_weights()\n",
        "w3,b3=model.get_layer('layer3').get_weights()\n",
        "print(\"layer1:\",w1.shape,b1.shape)\n",
        "print(\"layer2:\",w2.shape,b2.shape)\n",
        "print('layer3:',w3.shape,b3.shape)"
      ],
      "metadata": {
        "colab": {
          "base_uri": "https://localhost:8080/"
        },
        "id": "jJs2xQf6GYdD",
        "outputId": "db82fde3-68da-4c23-86bc-1ee2f3673cb9"
      },
      "execution_count": 20,
      "outputs": [
        {
          "output_type": "stream",
          "name": "stdout",
          "text": [
            "layer1: (400, 25) (25,)\n",
            "layer2: (25, 15) (15,)\n",
            "layer3: (15, 1) (1,)\n"
          ]
        }
      ]
    },
    {
      "cell_type": "code",
      "source": [
        "print(model.get_layer('layer3').weights)"
      ],
      "metadata": {
        "colab": {
          "base_uri": "https://localhost:8080/"
        },
        "id": "edRlRBWpGrgn",
        "outputId": "9800c1c8-06cc-4103-805f-361773eb8b76"
      },
      "execution_count": 22,
      "outputs": [
        {
          "output_type": "stream",
          "name": "stdout",
          "text": [
            "[<tf.Variable 'layer3/kernel:0' shape=(15, 1) dtype=float32, numpy=\n",
            "array([[ 0.12066805],\n",
            "       [ 0.17761749],\n",
            "       [-0.21003217],\n",
            "       [ 0.35096675],\n",
            "       [ 0.2772529 ],\n",
            "       [-0.34097242],\n",
            "       [ 0.33352858],\n",
            "       [ 0.3383063 ],\n",
            "       [ 0.09657615],\n",
            "       [-0.03773177],\n",
            "       [-0.5611083 ],\n",
            "       [-0.54381406],\n",
            "       [ 0.37985188],\n",
            "       [ 0.05988944],\n",
            "       [ 0.2464264 ]], dtype=float32)>, <tf.Variable 'layer3/bias:0' shape=(1,) dtype=float32, numpy=array([0.], dtype=float32)>]\n"
          ]
        }
      ]
    },
    {
      "cell_type": "code",
      "source": [
        "model.compile(\n",
        "    loss=tf.keras.losses.BinaryCrossentropy(),\n",
        "    optimizer=tf.keras.optimizers.Adam(0.001)\n",
        ")"
      ],
      "metadata": {
        "id": "zsRHwwLFHaJ9"
      },
      "execution_count": 24,
      "outputs": []
    },
    {
      "cell_type": "code",
      "source": [
        "model.fit(X,y,epochs=20)"
      ],
      "metadata": {
        "colab": {
          "base_uri": "https://localhost:8080/"
        },
        "id": "sXpW_ZRvIBcQ",
        "outputId": "5b21b778-1e79-4e72-ff29-7d367501e2d9"
      },
      "execution_count": 26,
      "outputs": [
        {
          "output_type": "stream",
          "name": "stdout",
          "text": [
            "Epoch 1/20\n",
            "32/32 [==============================] - 0s 2ms/step - loss: 0.5415\n",
            "Epoch 2/20\n",
            "32/32 [==============================] - 0s 2ms/step - loss: 0.4179\n",
            "Epoch 3/20\n",
            "32/32 [==============================] - 0s 2ms/step - loss: 0.3123\n",
            "Epoch 4/20\n",
            "32/32 [==============================] - 0s 2ms/step - loss: 0.2355\n",
            "Epoch 5/20\n",
            "32/32 [==============================] - 0s 2ms/step - loss: 0.1836\n",
            "Epoch 6/20\n",
            "32/32 [==============================] - 0s 2ms/step - loss: 0.1472\n",
            "Epoch 7/20\n",
            "32/32 [==============================] - 0s 2ms/step - loss: 0.1212\n",
            "Epoch 8/20\n",
            "32/32 [==============================] - 0s 2ms/step - loss: 0.1017\n",
            "Epoch 9/20\n",
            "32/32 [==============================] - 0s 2ms/step - loss: 0.0868\n",
            "Epoch 10/20\n",
            "32/32 [==============================] - 0s 3ms/step - loss: 0.0744\n",
            "Epoch 11/20\n",
            "32/32 [==============================] - 0s 2ms/step - loss: 0.0650\n",
            "Epoch 12/20\n",
            "32/32 [==============================] - 0s 2ms/step - loss: 0.0567\n",
            "Epoch 13/20\n",
            "32/32 [==============================] - 0s 2ms/step - loss: 0.0509\n",
            "Epoch 14/20\n",
            "32/32 [==============================] - 0s 2ms/step - loss: 0.0445\n",
            "Epoch 15/20\n",
            "32/32 [==============================] - 0s 2ms/step - loss: 0.0407\n",
            "Epoch 16/20\n",
            "32/32 [==============================] - 0s 2ms/step - loss: 0.0364\n",
            "Epoch 17/20\n",
            "32/32 [==============================] - 0s 2ms/step - loss: 0.0336\n",
            "Epoch 18/20\n",
            "32/32 [==============================] - 0s 2ms/step - loss: 0.0298\n",
            "Epoch 19/20\n",
            "32/32 [==============================] - 0s 2ms/step - loss: 0.0275\n",
            "Epoch 20/20\n",
            "32/32 [==============================] - 0s 2ms/step - loss: 0.0249\n"
          ]
        },
        {
          "output_type": "execute_result",
          "data": {
            "text/plain": [
              "<keras.src.callbacks.History at 0x7f21f826a7d0>"
            ]
          },
          "metadata": {},
          "execution_count": 26
        }
      ]
    },
    {
      "cell_type": "code",
      "source": [
        "prediction_list=[]\n",
        "yhat_list=[]\n",
        "prediction=model.predict(X[0].reshape(1,X.shape[1]))\n",
        "prediction_list.append(prediction)\n",
        "prediction= model.predict(X[500].reshape(1,X.shape[1]))\n",
        "prediction_list.append(prediction)\n",
        "for i in prediction_list:\n",
        "  if i>=0.5:\n",
        "    yhat=1\n",
        "    yhat_list.append(yhat)\n",
        "  else:\n",
        "    yhat=0\n",
        "    yhat_list.append(yhat)\n",
        "print(yhat_list)"
      ],
      "metadata": {
        "colab": {
          "base_uri": "https://localhost:8080/"
        },
        "id": "sjGZlMnhIJHH",
        "outputId": "574144ed-5766-4f25-bbd3-03c2b83b976c"
      },
      "execution_count": 37,
      "outputs": [
        {
          "output_type": "stream",
          "name": "stdout",
          "text": [
            "1/1 [==============================] - 0s 23ms/step\n",
            "1/1 [==============================] - 0s 23ms/step\n",
            "[0, 1]\n"
          ]
        }
      ]
    },
    {
      "cell_type": "code",
      "source": [],
      "metadata": {
        "id": "-974uRwjJ4lO"
      },
      "execution_count": null,
      "outputs": []
    }
  ]
}