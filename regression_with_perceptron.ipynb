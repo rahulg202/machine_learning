{
  "nbformat": 4,
  "nbformat_minor": 0,
  "metadata": {
    "colab": {
      "provenance": []
    },
    "kernelspec": {
      "name": "python3",
      "display_name": "Python 3"
    },
    "language_info": {
      "name": "python"
    }
  },
  "cells": [
    {
      "cell_type": "code",
      "execution_count": 12,
      "metadata": {
        "id": "5PddyFjNyUko"
      },
      "outputs": [],
      "source": [
        "import numpy as np\n",
        "import pandas as pd\n",
        "import matplotlib.pyplot as plt"
      ]
    },
    {
      "cell_type": "code",
      "source": [
        "df=pd.read_csv('/content/drive/MyDrive/maths for machine learning/tvmarketing.csv')"
      ],
      "metadata": {
        "id": "ca3ADMn3yoha"
      },
      "execution_count": 13,
      "outputs": []
    },
    {
      "cell_type": "code",
      "source": [
        "df.plot(x='TV', y='Sales', kind='scatter', c='black')"
      ],
      "metadata": {
        "colab": {
          "base_uri": "https://localhost:8080/",
          "height": 466
        },
        "id": "FGEqIMtT0dHc",
        "outputId": "01ce68e5-4a5c-478a-de2c-0d0010df552f"
      },
      "execution_count": 14,
      "outputs": [
        {
          "output_type": "execute_result",
          "data": {
            "text/plain": [
              "<Axes: xlabel='TV', ylabel='Sales'>"
            ]
          },
          "metadata": {},
          "execution_count": 14
        },
        {
          "output_type": "display_data",
          "data": {
            "text/plain": [
              "<Figure size 640x480 with 1 Axes>"
            ],
            "image/png": "[encoded data removed]"
          },
          "metadata": {}
        }
      ]
    },
    {
      "cell_type": "code",
      "source": [
        "df.head()"
      ],
      "metadata": {
        "colab": {
          "base_uri": "https://localhost:8080/",
          "height": 206
        },
        "id": "FT2PyUIOziyL",
        "outputId": "907339fa-d453-4f2b-ec0c-ab4947d4dd98"
      },
      "execution_count": 15,
      "outputs": [
        {
          "output_type": "execute_result",
          "data": {
            "text/plain": [
              "      TV  Sales\n",
              "0  230.1   22.1\n",
              "1   44.5   10.4\n",
              "2   17.2    9.3\n",
              "3  151.5   18.5\n",
              "4  180.8   12.9"
            ],
            "text/html": [
              "\n",
              "  <div id=\"df-9c519304-ddd6-4fe9-a969-e692431565ff\" class=\"colab-df-container\">\n",
              "    <div>\n",
              "<style scoped>\n",
              "    .dataframe tbody tr th:only-of-type {\n",
              "        vertical-align: middle;\n",
              "    }\n",
              "\n",
              "    .dataframe tbody tr th {\n",
              "        vertical-align: top;\n",
              "    }\n",
              "\n",
              "    .dataframe thead th {\n",
              "        text-align: right;\n",
              "    }\n",
              "</style>\n",
              "<table border=\"1\" class=\"dataframe\">\n",
              "  <thead>\n",
              "    <tr style=\"text-align: right;\">\n",
              "      <th></th>\n",
              "      <th>TV</th>\n",
              "      <th>Sales</th>\n",
              "    </tr>\n",
              "  </thead>\n",
              "  <tbody>\n",
              "    <tr>\n",
              "      <th>0</th>\n",
              "      <td>230.1</td>\n",
              "      <td>22.1</td>\n",
              "    </tr>\n",
              "    <tr>\n",
              "      <th>1</th>\n",
              "      <td>44.5</td>\n",
              "      <td>10.4</td>\n",
              "    </tr>\n",
              "    <tr>\n",
              "      <th>2</th>\n",
              "      <td>17.2</td>\n",
              "      <td>9.3</td>\n",
              "    </tr>\n",
              "    <tr>\n",
              "      <th>3</th>\n",
              "      <td>151.5</td>\n",
              "      <td>18.5</td>\n",
              "    </tr>\n",
              "    <tr>\n",
              "      <th>4</th>\n",
              "      <td>180.8</td>\n",
              "      <td>12.9</td>\n",
              "    </tr>\n",
              "  </tbody>\n",
              "</table>\n",
              "</div>\n",
              "    <div class=\"colab-df-buttons\">\n",
              "\n",
              "  <div class=\"colab-df-container\">\n",
              "    <button class=\"colab-df-convert\" onclick=\"convertToInteractive('df-9c519304-ddd6-4fe9-a969-e692431565ff')\"\n",
              "            title=\"Convert this dataframe to an interactive table.\"\n",
              "            style=\"display:none;\">\n",
              "\n",
              "  <svg xmlns=\"http://www.w3.org/2000/svg\" height=\"24px\" viewBox=\"0 -960 960 960\">\n",
              "    <path d=\"M120-120v-720h720v720H120Zm60-500h600v-160H180v160Zm220 220h160v-160H400v160Zm0 220h160v-160H400v160ZM180-400h160v-160H180v160Zm440 0h160v-160H620v160ZM180-180h160v-160H180v160Zm440 0h160v-160H620v160Z\"/>\n",
              "  </svg>\n",
              "    </button>\n",
              "\n",
              "  <style>\n",
              "    .colab-df-container {\n",
              "      display:flex;\n",
              "      gap: 12px;\n",
              "    }\n",
              "\n",
              "    .colab-df-convert {\n",
              "      background-color: #E8F0FE;\n",
              "      border: none;\n",
              "      border-radius: 50%;\n",
              "      cursor: pointer;\n",
              "      display: none;\n",
              "      fill: #1967D2;\n",
              "      height: 32px;\n",
              "      padding: 0 0 0 0;\n",
              "      width: 32px;\n",
              "    }\n",
              "\n",
              "    .colab-df-convert:hover {\n",
              "      background-color: #E2EBFA;\n",
              "      box-shadow: 0px 1px 2px rgba(60, 64, 67, 0.3), 0px 1px 3px 1px rgba(60, 64, 67, 0.15);\n",
              "      fill: #174EA6;\n",
              "    }\n",
              "\n",
              "    .colab-df-buttons div {\n",
              "      margin-bottom: 4px;\n",
              "    }\n",
              "\n",
              "    [theme=dark] .colab-df-convert {\n",
              "      background-color: #3B4455;\n",
              "      fill: #D2E3FC;\n",
              "    }\n",
              "\n",
              "    [theme=dark] .colab-df-convert:hover {\n",
              "      background-color: #434B5C;\n",
              "      box-shadow: 0px 1px 3px 1px rgba(0, 0, 0, 0.15);\n",
              "      filter: drop-shadow(0px 1px 2px rgba(0, 0, 0, 0.3));\n",
              "      fill: #FFFFFF;\n",
              "    }\n",
              "  </style>\n",
              "\n",
              "    <script>\n",
              "      const buttonEl =\n",
              "        document.querySelector('#df-9c519304-ddd6-4fe9-a969-e692431565ff button.colab-df-convert');\n",
              "      buttonEl.style.display =\n",
              "        google.colab.kernel.accessAllowed ? 'block' : 'none';\n",
              "\n",
              "      async function convertToInteractive(key) {\n",
              "        const element = document.querySelector('#df-9c519304-ddd6-4fe9-a969-e692431565ff');\n",
              "        const dataTable =\n",
              "          await google.colab.kernel.invokeFunction('convertToInteractive',\n",
              "                                                    [key], {});\n",
              "        if (!dataTable) return;\n",
              "\n",
              "        const docLinkHtml = 'Like what you see? Visit the ' +\n",
              "          '<a target=\"_blank\" href=https://colab.research.google.com/notebooks/data_table.ipynb>data table notebook</a>'\n",
              "          + ' to learn more about interactive tables.';\n",
              "        element.innerHTML = '';\n",
              "        dataTable['output_type'] = 'display_data';\n",
              "        await google.colab.output.renderOutput(dataTable, element);\n",
              "        const docLink = document.createElement('div');\n",
              "        docLink.innerHTML = docLinkHtml;\n",
              "        element.appendChild(docLink);\n",
              "      }\n",
              "    </script>\n",
              "  </div>\n",
              "\n",
              "\n",
              "<div id=\"df-1901a660-da73-4d58-979a-bf9c081f69bc\">\n",
              "  <button class=\"colab-df-quickchart\" onclick=\"quickchart('df-1901a660-da73-4d58-979a-bf9c081f69bc')\"\n",
              "            title=\"Suggest charts\"\n",
              "            style=\"display:none;\">\n",
              "\n",
              "<svg xmlns=\"http://www.w3.org/2000/svg\" height=\"24px\"viewBox=\"0 0 24 24\"\n",
              "     width=\"24px\">\n",
              "    <g>\n",
              "        <path d=\"M19 3H5c-1.1 0-2 .9-2 2v14c0 1.1.9 2 2 2h14c1.1 0 2-.9 2-2V5c0-1.1-.9-2-2-2zM9 17H7v-7h2v7zm4 0h-2V7h2v10zm4 0h-2v-4h2v4z\"/>\n",
              "    </g>\n",
              "</svg>\n",
              "  </button>\n",
              "\n",
              "<style>\n",
              "  .colab-df-quickchart {\n",
              "      --bg-color: #E8F0FE;\n",
              "      --fill-color: #1967D2;\n",
              "      --hover-bg-color: #E2EBFA;\n",
              "      --hover-fill-color: #174EA6;\n",
              "      --disabled-fill-color: #AAA;\n",
              "      --disabled-bg-color: #DDD;\n",
              "  }\n",
              "\n",
              "  [theme=dark] .colab-df-quickchart {\n",
              "      --bg-color: #3B4455;\n",
              "      --fill-color: #D2E3FC;\n",
              "      --hover-bg-color: #434B5C;\n",
              "      --hover-fill-color: #FFFFFF;\n",
              "      --disabled-bg-color: #3B4455;\n",
              "      --disabled-fill-color: #666;\n",
              "  }\n",
              "\n",
              "  .colab-df-quickchart {\n",
              "    background-color: var(--bg-color);\n",
              "    border: none;\n",
              "    border-radius: 50%;\n",
              "    cursor: pointer;\n",
              "    display: none;\n",
              "    fill: var(--fill-color);\n",
              "    height: 32px;\n",
              "    padding: 0;\n",
              "    width: 32px;\n",
              "  }\n",
              "\n",
              "  .colab-df-quickchart:hover {\n",
              "    background-color: var(--hover-bg-color);\n",
              "    box-shadow: 0 1px 2px rgba(60, 64, 67, 0.3), 0 1px 3px 1px rgba(60, 64, 67, 0.15);\n",
              "    fill: var(--button-hover-fill-color);\n",
              "  }\n",
              "\n",
              "  .colab-df-quickchart-complete:disabled,\n",
              "  .colab-df-quickchart-complete:disabled:hover {\n",
              "    background-color: var(--disabled-bg-color);\n",
              "    fill: var(--disabled-fill-color);\n",
              "    box-shadow: none;\n",
              "  }\n",
              "\n",
              "  .colab-df-spinner {\n",
              "    border: 2px solid var(--fill-color);\n",
              "    border-color: transparent;\n",
              "    border-bottom-color: var(--fill-color);\n",
              "    animation:\n",
              "      spin 1s steps(1) infinite;\n",
              "  }\n",
              "\n",
              "  @keyframes spin {\n",
              "    0% {\n",
              "      border-color: transparent;\n",
              "      border-bottom-color: var(--fill-color);\n",
              "      border-left-color: var(--fill-color);\n",
              "    }\n",
              "    20% {\n",
              "      border-color: transparent;\n",
              "      border-left-color: var(--fill-color);\n",
              "      border-top-color: var(--fill-color);\n",
              "    }\n",
              "    30% {\n",
              "      border-color: transparent;\n",
              "      border-left-color: var(--fill-color);\n",
              "      border-top-color: var(--fill-color);\n",
              "      border-right-color: var(--fill-color);\n",
              "    }\n",
              "    40% {\n",
              "      border-color: transparent;\n",
              "      border-right-color: var(--fill-color);\n",
              "      border-top-color: var(--fill-color);\n",
              "    }\n",
              "    60% {\n",
              "      border-color: transparent;\n",
              "      border-right-color: var(--fill-color);\n",
              "    }\n",
              "    80% {\n",
              "      border-color: transparent;\n",
              "      border-right-color: var(--fill-color);\n",
              "      border-bottom-color: var(--fill-color);\n",
              "    }\n",
              "    90% {\n",
              "      border-color: transparent;\n",
              "      border-bottom-color: var(--fill-color);\n",
              "    }\n",
              "  }\n",
              "</style>\n",
              "\n",
              "  <script>\n",
              "    async function quickchart(key) {\n",
              "      const quickchartButtonEl =\n",
              "        document.querySelector('#' + key + ' button');\n",
              "      quickchartButtonEl.disabled = true;  // To prevent multiple clicks.\n",
              "      quickchartButtonEl.classList.add('colab-df-spinner');\n",
              "      try {\n",
              "        const charts = await google.colab.kernel.invokeFunction(\n",
              "            'suggestCharts', [key], {});\n",
              "      } catch (error) {\n",
              "        console.error('Error during call to suggestCharts:', error);\n",
              "      }\n",
              "      quickchartButtonEl.classList.remove('colab-df-spinner');\n",
              "      quickchartButtonEl.classList.add('colab-df-quickchart-complete');\n",
              "    }\n",
              "    (() => {\n",
              "      let quickchartButtonEl =\n",
              "        document.querySelector('#df-1901a660-da73-4d58-979a-bf9c081f69bc button');\n",
              "      quickchartButtonEl.style.display =\n",
              "        google.colab.kernel.accessAllowed ? 'block' : 'none';\n",
              "    })();\n",
              "  </script>\n",
              "</div>\n",
              "\n",
              "    </div>\n",
              "  </div>\n"
            ],
            "application/vnd.google.colaboratory.intrinsic+json": {
              "type": "dataframe",
              "variable_name": "df",
              "summary": "{\n  \"name\": \"df\",\n  \"rows\": 200,\n  \"fields\": [\n    {\n      \"column\": \"TV\",\n      \"properties\": {\n        \"dtype\": \"number\",\n        \"std\": 85.85423631490808,\n        \"min\": 0.7,\n        \"max\": 296.4,\n        \"num_unique_values\": 190,\n        \"samples\": [\n          287.6,\n          286.0,\n          78.2\n        ],\n        \"semantic_type\": \"\",\n        \"description\": \"\"\n      }\n    },\n    {\n      \"column\": \"Sales\",\n      \"properties\": {\n        \"dtype\": \"number\",\n        \"std\": 5.217456565710478,\n        \"min\": 1.6,\n        \"max\": 27.0,\n        \"num_unique_values\": 121,\n        \"samples\": [\n          11.4,\n          21.2,\n          12.9\n        ],\n        \"semantic_type\": \"\",\n        \"description\": \"\"\n      }\n    }\n  ]\n}"
            }
          },
          "metadata": {},
          "execution_count": 15
        }
      ]
    },
    {
      "cell_type": "code",
      "source": [
        "X=np.array(df.TV)\n",
        "Y=np.array(df.Sales)"
      ],
      "metadata": {
        "id": "VhDYRgwtzj0K"
      },
      "execution_count": 16,
      "outputs": []
    },
    {
      "cell_type": "code",
      "source": [
        "#normalize\n",
        "\n",
        "X_norm=((X-np.mean(X))/np.std(X)).reshape((1,len(X)))\n",
        "Y_norm=((Y-np.mean(Y))/np.std(Y)).reshape((1,len(Y)))\n",
        "\n",
        "plt.scatter(x=X_norm, y=Y_norm)"
      ],
      "metadata": {
        "colab": {
          "base_uri": "https://localhost:8080/",
          "height": 447
        },
        "id": "yQJ90J3N0RQy",
        "outputId": "6d2b6bfb-7d2f-4801-c9b1-e0b2615a9326"
      },
      "execution_count": 17,
      "outputs": [
        {
          "output_type": "execute_result",
          "data": {
            "text/plain": [
              "<matplotlib.collections.PathCollection at 0x7df004f95570>"
            ]
          },
          "metadata": {},
          "execution_count": 17
        },
        {
          "output_type": "display_data",
          "data": {
            "text/plain": [
              "<Figure size 640x480 with 1 Axes>"
            ],
            "image/png": "[encoded data removed]"
          },
          "metadata": {}
        }
      ]
    },
    {
      "cell_type": "code",
      "source": [
        "def layer_size(X,Y):\n",
        "  x_n=X.shape[0] #size of input layer\n",
        "  y_n=Y.shape[0] #size of output layer\n",
        "\n",
        "  return (x_n,y_n)\n"
      ],
      "metadata": {
        "id": "3PwtqIRw_GLP"
      },
      "execution_count": 18,
      "outputs": []
    },
    {
      "cell_type": "code",
      "source": [
        "def initialize(n_x,n_y):\n",
        "  W=np.random.randn(n_y,n_x)*0.01 #Scaling Factor: Multiplying the matrix by 0.01 scales down the random values. This is a common practice in neural network initialization to ensure that the weights start with small values. Small initial values are beneficial because they help avoid problems such as exploding or vanishing gradients during the training of the model.\n",
        "  b=np.zeros((n_y,1))\n",
        "\n",
        "  parameters={\"W\":W,\"b\":b}\n",
        "\n",
        "  return parameters"
      ],
      "metadata": {
        "id": "dUxmIzqW_ygj"
      },
      "execution_count": 19,
      "outputs": []
    },
    {
      "cell_type": "code",
      "source": [
        "def forward_propagation(parameters,X):\n",
        "  W=parameters[\"W\"]\n",
        "  b=parameters[\"b\"]\n",
        "\n",
        "  Z=np.matmul(W,X)+b\n",
        "  y_hat=Z\n",
        "  return y_hat"
      ],
      "metadata": {
        "id": "LgCyEanyB2yS"
      },
      "execution_count": 20,
      "outputs": []
    },
    {
      "cell_type": "code",
      "source": [
        "def cost_compute(Y,y_hat):\n",
        "  m=y_hat.shape[1]\n",
        "  cost=np.sum((y_hat-Y)**2)/(2*m)\n",
        "  return cost"
      ],
      "metadata": {
        "id": "2nm8sIFxCaSq"
      },
      "execution_count": 21,
      "outputs": []
    },
    {
      "cell_type": "code",
      "source": [
        "def backward_propagation(y_hat,X,Y):\n",
        "  m=X.shape[1]\n",
        "  dZ=y_hat-Y\n",
        "  dZdw= (1/m)*np.dot(dZ,X.T)#np.dot acts as matrix mul in case of more than 1 dimensions and as a vector mul in case of 1 dimension here we use np.diot because we can have opnly 1 example also\n",
        "  dZdb=(1/m)*np.sum(dZ,axis=1,keepdims=True)\n",
        "\n",
        "  gradient={\"dzdw\":dZdw,\"dzdb\":dZdb}\n",
        "\n",
        "  return gradient"
      ],
      "metadata": {
        "id": "CzmYh3qAD5Pg"
      },
      "execution_count": 22,
      "outputs": []
    },
    {
      "cell_type": "code",
      "source": [
        "def update_parameters(parameters,gradient,learning_rate):\n",
        "  w=parameters[\"W\"]\n",
        "  b=parameters[\"b\"]\n",
        "\n",
        "  dw=gradient[\"dzdw\"]\n",
        "  db=gradient[\"dzdb\"]\n",
        "\n",
        "  w=w-learning_rate*dw\n",
        "  b=b-learning_rate*db\n",
        "\n",
        "  parameters={\"W\":w,\"b\":b}\n",
        "\n",
        "  return parameters"
      ],
      "metadata": {
        "id": "dqhRUjR8KEIM"
      },
      "execution_count": 23,
      "outputs": []
    },
    {
      "cell_type": "code",
      "source": [
        "def nn_model(X,Y,learning_rate,iterations):\n",
        "\n",
        "  x_n=layer_size(X,Y)[0]\n",
        "  y_n=layer_size(X,Y)[1]\n",
        "\n",
        "  parameters=initialize(x_n,y_n)\n",
        "\n",
        "  for i in range(0,iterations):\n",
        "\n",
        "    y_hat=forward_propagation(parameters,X)\n",
        "\n",
        "    cost=cost_compute(y_hat,Y)\n",
        "\n",
        "    print(cost)\n",
        "\n",
        "    gradient=backward_propagation(y_hat,X,Y)\n",
        "\n",
        "    parameters= update_parameters(parameters,gradient,learning_rate)\n",
        "\n",
        "  return parameters\n",
        "\n",
        "parameters_simple = nn_model(X_norm, Y_norm,learning_rate=1.2,iterations=30)\n",
        "print(\"W = \" + str(parameters_simple[\"W\"]))\n",
        "print(\"b = \" + str(parameters_simple[\"b\"]))"
      ],
      "metadata": {
        "colab": {
          "base_uri": "https://localhost:8080/"
        },
        "id": "jZWqDFvqK4E7",
        "outputId": "51671a62-7e8e-4f0f-deef-c3a93e425c0a"
      },
      "execution_count": 24,
      "outputs": [
        {
          "output_type": "stream",
          "name": "stdout",
          "text": [
            "0.49740228621474375\n",
            "0.2061960670405557\n",
            "0.19454781827358814\n",
            "0.19408188832290946\n",
            "0.1940632511248823\n",
            "0.1940625056369612\n",
            "0.19406247581744437\n",
            "0.19406247462466367\n",
            "0.1940624745769525\n",
            "0.194062474575044\n",
            "0.19406247457496767\n",
            "0.19406247457496462\n",
            "0.19406247457496448\n",
            "0.1940624745749645\n",
            "0.19406247457496448\n",
            "0.19406247457496448\n",
            "0.19406247457496448\n",
            "0.19406247457496448\n",
            "0.19406247457496448\n",
            "0.19406247457496448\n",
            "0.19406247457496448\n",
            "0.19406247457496448\n",
            "0.19406247457496448\n",
            "0.19406247457496448\n",
            "0.19406247457496448\n",
            "0.19406247457496448\n",
            "0.19406247457496448\n",
            "0.19406247457496448\n",
            "0.19406247457496448\n",
            "0.19406247457496448\n",
            "W = [[0.78222442]]\n",
            "b = [[-3.19744231e-16]]\n"
          ]
        }
      ]
    },
    {
      "cell_type": "code",
      "source": [
        "def predict(X, Y, parameters, X_pred):\n",
        "\n",
        "    # Retrieve each parameter from the dictionary \"parameters\".\n",
        "    W = parameters[\"W\"]\n",
        "    b = parameters[\"b\"]\n",
        "    print(type(X))\n",
        "    # Use the same mean and standard deviation of the original training array X.\n",
        "    if isinstance(X, pd.Series):\n",
        "        print('series')\n",
        "        X_mean = np.mean(X)\n",
        "        X_std = np.std(X)\n",
        "        X_pred_norm = ((X_pred - X_mean)/X_std).reshape((1, len(X_pred)))\n",
        "    else:\n",
        "        X_mean = np.array(np.mean(X)).reshape((len(X.axes[1]),1))\n",
        "        X_std = np.array(np.std(X)).reshape((len(X.axes[1]),1))\n",
        "        X_pred_norm = ((X_pred - X_mean)/X_std)\n",
        "    Y_pred_norm= np.matmul(W,X_pred_norm)+b\n",
        "    Y_pred= Y_pred_norm*np.std(Y)+ np.mean(Y)\n",
        "\n",
        "\n",
        "\n",
        "    return Y_pred[0]\n",
        "\n",
        "X_pred = np.array([50, 120, 280])\n",
        "Y_pred = predict(df[\"TV\"], df[\"Sales\"], parameters_simple, X_pred)\n",
        "print(f\"TV marketing expenses:\\n{X_pred}\")\n",
        "print(f\"Predictions of sales:\\n{Y_pred}\")\n"
      ],
      "metadata": {
        "colab": {
          "base_uri": "https://localhost:8080/"
        },
        "id": "nvP6IUgkRgm4",
        "outputId": "fbb395a4-2e69-43a4-89ad-ef0e59401497"
      },
      "execution_count": 34,
      "outputs": [
        {
          "output_type": "stream",
          "name": "stdout",
          "text": [
            "<class 'pandas.core.series.Series'>\n",
            "series\n",
            "TV marketing expenses:\n",
            "[ 50 120 280]\n",
            "Predictions of sales:\n",
            "[ 9.40942557 12.7369904  20.34285287]\n"
          ]
        }
      ]
    },
    {
      "cell_type": "code",
      "source": [
        "print(isinstance(df['TV'],pd.Series))"
      ],
      "metadata": {
        "colab": {
          "base_uri": "https://localhost:8080/"
        },
        "id": "JhKqI4hJp4cq",
        "outputId": "bb566f81-db5c-466d-c477-e825e956a046"
      },
      "execution_count": 30,
      "outputs": [
        {
          "output_type": "stream",
          "name": "stdout",
          "text": [
            "True\n"
          ]
        }
      ]
    }
  ]
}