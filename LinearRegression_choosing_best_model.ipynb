{
  "nbformat": 4,
  "nbformat_minor": 0,
  "metadata": {
    "colab": {
      "provenance": []
    },
    "kernelspec": {
      "name": "python3",
      "display_name": "Python 3"
    },
    "language_info": {
      "name": "python"
    }
  },
  "cells": [
    {
      "cell_type": "code",
      "execution_count": null,
      "metadata": {
        "id": "chNjIDYTIFnF"
      },
      "outputs": [],
      "source": [
        "import numpy as np\n",
        "import pandas as pd\n",
        "import matplotlib.pyplot as plt\n",
        "from sklearn.linear_model import LinearRegression\n",
        "from sklearn.preprocessing import StandardScaler, PolynomialFeatures\n",
        "from sklearn.model_selection import train_test_split\n",
        "from sklearn.metrics import mean_squared_error\n",
        "import tensorflow as tf"
      ]
    },
    {
      "cell_type": "code",
      "source": [
        "df= pd.read_csv('/content/data_w3_ex1.csv')\n",
        "df.head()"
      ],
      "metadata": {
        "colab": {
          "base_uri": "https://localhost:8080/",
          "height": 206
        },
        "id": "jBjFlkmwJGnS",
        "outputId": "c91dab27-4bde-4a8b-bcba-24f93d3d6303"
      },
      "execution_count": null,
      "outputs": [
        {
          "output_type": "execute_result",
          "data": {
            "text/plain": [
              "   1.651000000000000227e+03  4.326452172406379759e+02\n",
              "0               1691.816327                454.935530\n",
              "1               1732.632653                471.525248\n",
              "2               1773.448980                482.506389\n",
              "3               1814.265306                468.357886\n",
              "4               1855.081633                482.152531"
            ],
            "text/html": [
              "\n",
              "  <div id=\"df-e0f69c3d-0966-46a4-84ef-75a38a057f06\" class=\"colab-df-container\">\n",
              "    <div>\n",
              "<style scoped>\n",
              "    .dataframe tbody tr th:only-of-type {\n",
              "        vertical-align: middle;\n",
              "    }\n",
              "\n",
              "    .dataframe tbody tr th {\n",
              "        vertical-align: top;\n",
              "    }\n",
              "\n",
              "    .dataframe thead th {\n",
              "        text-align: right;\n",
              "    }\n",
              "</style>\n",
              "<table border=\"1\" class=\"dataframe\">\n",
              "  <thead>\n",
              "    <tr style=\"text-align: right;\">\n",
              "      <th></th>\n",
              "      <th>1.651000000000000227e+03</th>\n",
              "      <th>4.326452172406379759e+02</th>\n",
              "    </tr>\n",
              "  </thead>\n",
              "  <tbody>\n",
              "    <tr>\n",
              "      <th>0</th>\n",
              "      <td>1691.816327</td>\n",
              "      <td>454.935530</td>\n",
              "    </tr>\n",
              "    <tr>\n",
              "      <th>1</th>\n",
              "      <td>1732.632653</td>\n",
              "      <td>471.525248</td>\n",
              "    </tr>\n",
              "    <tr>\n",
              "      <th>2</th>\n",
              "      <td>1773.448980</td>\n",
              "      <td>482.506389</td>\n",
              "    </tr>\n",
              "    <tr>\n",
              "      <th>3</th>\n",
              "      <td>1814.265306</td>\n",
              "      <td>468.357886</td>\n",
              "    </tr>\n",
              "    <tr>\n",
              "      <th>4</th>\n",
              "      <td>1855.081633</td>\n",
              "      <td>482.152531</td>\n",
              "    </tr>\n",
              "  </tbody>\n",
              "</table>\n",
              "</div>\n",
              "    <div class=\"colab-df-buttons\">\n",
              "\n",
              "  <div class=\"colab-df-container\">\n",
              "    <button class=\"colab-df-convert\" onclick=\"convertToInteractive('df-e0f69c3d-0966-46a4-84ef-75a38a057f06')\"\n",
              "            title=\"Convert this dataframe to an interactive table.\"\n",
              "            style=\"display:none;\">\n",
              "\n",
              "  <svg xmlns=\"http://www.w3.org/2000/svg\" height=\"24px\" viewBox=\"0 -960 960 960\">\n",
              "    <path d=\"M120-120v-720h720v720H120Zm60-500h600v-160H180v160Zm220 220h160v-160H400v160Zm0 220h160v-160H400v160ZM180-400h160v-160H180v160Zm440 0h160v-160H620v160ZM180-180h160v-160H180v160Zm440 0h160v-160H620v160Z\"/>\n",
              "  </svg>\n",
              "    </button>\n",
              "\n",
              "  <style>\n",
              "    .colab-df-container {\n",
              "      display:flex;\n",
              "      gap: 12px;\n",
              "    }\n",
              "\n",
              "    .colab-df-convert {\n",
              "      background-color: #E8F0FE;\n",
              "      border: none;\n",
              "      border-radius: 50%;\n",
              "      cursor: pointer;\n",
              "      display: none;\n",
              "      fill: #1967D2;\n",
              "      height: 32px;\n",
              "      padding: 0 0 0 0;\n",
              "      width: 32px;\n",
              "    }\n",
              "\n",
              "    .colab-df-convert:hover {\n",
              "      background-color: #E2EBFA;\n",
              "      box-shadow: 0px 1px 2px rgba(60, 64, 67, 0.3), 0px 1px 3px 1px rgba(60, 64, 67, 0.15);\n",
              "      fill: #174EA6;\n",
              "    }\n",
              "\n",
              "    .colab-df-buttons div {\n",
              "      margin-bottom: 4px;\n",
              "    }\n",
              "\n",
              "    [theme=dark] .colab-df-convert {\n",
              "      background-color: #3B4455;\n",
              "      fill: #D2E3FC;\n",
              "    }\n",
              "\n",
              "    [theme=dark] .colab-df-convert:hover {\n",
              "      background-color: #434B5C;\n",
              "      box-shadow: 0px 1px 3px 1px rgba(0, 0, 0, 0.15);\n",
              "      filter: drop-shadow(0px 1px 2px rgba(0, 0, 0, 0.3));\n",
              "      fill: #FFFFFF;\n",
              "    }\n",
              "  </style>\n",
              "\n",
              "    <script>\n",
              "      const buttonEl =\n",
              "        document.querySelector('#df-e0f69c3d-0966-46a4-84ef-75a38a057f06 button.colab-df-convert');\n",
              "      buttonEl.style.display =\n",
              "        google.colab.kernel.accessAllowed ? 'block' : 'none';\n",
              "\n",
              "      async function convertToInteractive(key) {\n",
              "        const element = document.querySelector('#df-e0f69c3d-0966-46a4-84ef-75a38a057f06');\n",
              "        const dataTable =\n",
              "          await google.colab.kernel.invokeFunction('convertToInteractive',\n",
              "                                                    [key], {});\n",
              "        if (!dataTable) return;\n",
              "\n",
              "        const docLinkHtml = 'Like what you see? Visit the ' +\n",
              "          '<a target=\"_blank\" href=https://colab.research.google.com/notebooks/data_table.ipynb>data table notebook</a>'\n",
              "          + ' to learn more about interactive tables.';\n",
              "        element.innerHTML = '';\n",
              "        dataTable['output_type'] = 'display_data';\n",
              "        await google.colab.output.renderOutput(dataTable, element);\n",
              "        const docLink = document.createElement('div');\n",
              "        docLink.innerHTML = docLinkHtml;\n",
              "        element.appendChild(docLink);\n",
              "      }\n",
              "    </script>\n",
              "  </div>\n",
              "\n",
              "\n",
              "<div id=\"df-6d19ea3e-9221-41c4-99a4-989a63b8575c\">\n",
              "  <button class=\"colab-df-quickchart\" onclick=\"quickchart('df-6d19ea3e-9221-41c4-99a4-989a63b8575c')\"\n",
              "            title=\"Suggest charts\"\n",
              "            style=\"display:none;\">\n",
              "\n",
              "<svg xmlns=\"http://www.w3.org/2000/svg\" height=\"24px\"viewBox=\"0 0 24 24\"\n",
              "     width=\"24px\">\n",
              "    <g>\n",
              "        <path d=\"M19 3H5c-1.1 0-2 .9-2 2v14c0 1.1.9 2 2 2h14c1.1 0 2-.9 2-2V5c0-1.1-.9-2-2-2zM9 17H7v-7h2v7zm4 0h-2V7h2v10zm4 0h-2v-4h2v4z\"/>\n",
              "    </g>\n",
              "</svg>\n",
              "  </button>\n",
              "\n",
              "<style>\n",
              "  .colab-df-quickchart {\n",
              "      --bg-color: #E8F0FE;\n",
              "      --fill-color: #1967D2;\n",
              "      --hover-bg-color: #E2EBFA;\n",
              "      --hover-fill-color: #174EA6;\n",
              "      --disabled-fill-color: #AAA;\n",
              "      --disabled-bg-color: #DDD;\n",
              "  }\n",
              "\n",
              "  [theme=dark] .colab-df-quickchart {\n",
              "      --bg-color: #3B4455;\n",
              "      --fill-color: #D2E3FC;\n",
              "      --hover-bg-color: #434B5C;\n",
              "      --hover-fill-color: #FFFFFF;\n",
              "      --disabled-bg-color: #3B4455;\n",
              "      --disabled-fill-color: #666;\n",
              "  }\n",
              "\n",
              "  .colab-df-quickchart {\n",
              "    background-color: var(--bg-color);\n",
              "    border: none;\n",
              "    border-radius: 50%;\n",
              "    cursor: pointer;\n",
              "    display: none;\n",
              "    fill: var(--fill-color);\n",
              "    height: 32px;\n",
              "    padding: 0;\n",
              "    width: 32px;\n",
              "  }\n",
              "\n",
              "  .colab-df-quickchart:hover {\n",
              "    background-color: var(--hover-bg-color);\n",
              "    box-shadow: 0 1px 2px rgba(60, 64, 67, 0.3), 0 1px 3px 1px rgba(60, 64, 67, 0.15);\n",
              "    fill: var(--button-hover-fill-color);\n",
              "  }\n",
              "\n",
              "  .colab-df-quickchart-complete:disabled,\n",
              "  .colab-df-quickchart-complete:disabled:hover {\n",
              "    background-color: var(--disabled-bg-color);\n",
              "    fill: var(--disabled-fill-color);\n",
              "    box-shadow: none;\n",
              "  }\n",
              "\n",
              "  .colab-df-spinner {\n",
              "    border: 2px solid var(--fill-color);\n",
              "    border-color: transparent;\n",
              "    border-bottom-color: var(--fill-color);\n",
              "    animation:\n",
              "      spin 1s steps(1) infinite;\n",
              "  }\n",
              "\n",
              "  @keyframes spin {\n",
              "    0% {\n",
              "      border-color: transparent;\n",
              "      border-bottom-color: var(--fill-color);\n",
              "      border-left-color: var(--fill-color);\n",
              "    }\n",
              "    20% {\n",
              "      border-color: transparent;\n",
              "      border-left-color: var(--fill-color);\n",
              "      border-top-color: var(--fill-color);\n",
              "    }\n",
              "    30% {\n",
              "      border-color: transparent;\n",
              "      border-left-color: var(--fill-color);\n",
              "      border-top-color: var(--fill-color);\n",
              "      border-right-color: var(--fill-color);\n",
              "    }\n",
              "    40% {\n",
              "      border-color: transparent;\n",
              "      border-right-color: var(--fill-color);\n",
              "      border-top-color: var(--fill-color);\n",
              "    }\n",
              "    60% {\n",
              "      border-color: transparent;\n",
              "      border-right-color: var(--fill-color);\n",
              "    }\n",
              "    80% {\n",
              "      border-color: transparent;\n",
              "      border-right-color: var(--fill-color);\n",
              "      border-bottom-color: var(--fill-color);\n",
              "    }\n",
              "    90% {\n",
              "      border-color: transparent;\n",
              "      border-bottom-color: var(--fill-color);\n",
              "    }\n",
              "  }\n",
              "</style>\n",
              "\n",
              "  <script>\n",
              "    async function quickchart(key) {\n",
              "      const quickchartButtonEl =\n",
              "        document.querySelector('#' + key + ' button');\n",
              "      quickchartButtonEl.disabled = true;  // To prevent multiple clicks.\n",
              "      quickchartButtonEl.classList.add('colab-df-spinner');\n",
              "      try {\n",
              "        const charts = await google.colab.kernel.invokeFunction(\n",
              "            'suggestCharts', [key], {});\n",
              "      } catch (error) {\n",
              "        console.error('Error during call to suggestCharts:', error);\n",
              "      }\n",
              "      quickchartButtonEl.classList.remove('colab-df-spinner');\n",
              "      quickchartButtonEl.classList.add('colab-df-quickchart-complete');\n",
              "    }\n",
              "    (() => {\n",
              "      let quickchartButtonEl =\n",
              "        document.querySelector('#df-6d19ea3e-9221-41c4-99a4-989a63b8575c button');\n",
              "      quickchartButtonEl.style.display =\n",
              "        google.colab.kernel.accessAllowed ? 'block' : 'none';\n",
              "    })();\n",
              "  </script>\n",
              "</div>\n",
              "\n",
              "    </div>\n",
              "  </div>\n"
            ],
            "application/vnd.google.colaboratory.intrinsic+json": {
              "type": "dataframe",
              "variable_name": "df",
              "summary": "{\n  \"name\": \"df\",\n  \"rows\": 49,\n  \"fields\": [\n    {\n      \"column\": \"1.651000000000000227e+03\",\n      \"properties\": {\n        \"dtype\": \"number\",\n        \"std\": 583.2118435198043,\n        \"min\": 1691.8163265306123,\n        \"max\": 3651.0,\n        \"num_unique_values\": 49,\n        \"samples\": [\n          2222.4285714285716,\n          3528.551020408164,\n          3610.183673469387\n        ],\n        \"semantic_type\": \"\",\n        \"description\": \"\"\n      }\n    },\n    {\n      \"column\": \"4.326452172406379759e+02\",\n      \"properties\": {\n        \"dtype\": \"number\",\n        \"std\": 137.4391361211749,\n        \"min\": 454.9355296196552,\n        \"max\": 910.8327208115878,\n        \"num_unique_values\": 49,\n        \"samples\": [\n          616.5762649903032,\n          874.112597757064,\n          910.8327208115878\n        ],\n        \"semantic_type\": \"\",\n        \"description\": \"\"\n      }\n    }\n  ]\n}"
            }
          },
          "metadata": {},
          "execution_count": 29
        }
      ]
    },
    {
      "cell_type": "code",
      "source": [
        "x= np.array(df.iloc[0:,0])\n",
        "y=np.array(df.iloc[:,1])\n",
        "\n",
        "print(x,'\\n\\n\\n\\n',y)"
      ],
      "metadata": {
        "colab": {
          "base_uri": "https://localhost:8080/"
        },
        "id": "RFdxSheRKYqC",
        "outputId": "e2944438-914d-4556-c507-d1e61b830b8b"
      },
      "execution_count": null,
      "outputs": [
        {
          "output_type": "stream",
          "name": "stdout",
          "text": [
            "[1691.81632653 1732.63265306 1773.44897959 1814.26530612 1855.08163265\n",
            " 1895.89795918 1936.71428571 1977.53061224 2018.34693878 2059.16326531\n",
            " 2099.97959184 2140.79591837 2181.6122449  2222.42857143 2263.24489796\n",
            " 2304.06122449 2344.87755102 2385.69387755 2426.51020408 2467.32653061\n",
            " 2508.14285714 2548.95918367 2589.7755102  2630.59183673 2671.40816327\n",
            " 2712.2244898  2753.04081633 2793.85714286 2834.67346939 2875.48979592\n",
            " 2916.30612245 2957.12244898 2997.93877551 3038.75510204 3079.57142857\n",
            " 3120.3877551  3161.20408163 3202.02040816 3242.83673469 3283.65306122\n",
            " 3324.46938776 3365.28571429 3406.10204082 3446.91836735 3487.73469388\n",
            " 3528.55102041 3569.36734694 3610.18367347 3651.        ] \n",
            "\n",
            "\n",
            "\n",
            " [454.93552962 471.52524758 482.50638875 468.35788634 482.15253068\n",
            " 540.02175551 534.58426716 558.34620761 566.42344476 581.39765115\n",
            " 596.45873727 596.71483169 619.45139015 616.57626499 653.16245988\n",
            " 666.5199211  670.58975936 669.0228872  678.90932305 707.43696439\n",
            " 710.76028811 745.19134109 729.84576182 743.8029216  738.20269108\n",
            " 772.94612229 772.21770555 784.21381185 776.43260818 804.77626351\n",
            " 833.27245885 825.69036997 821.05332536 833.8220374  833.06142176\n",
            " 825.69807442 843.57733693 869.39551702 851.50301475 863.18255746\n",
            " 853.00601315 877.15675377 863.74199586 874.67194154 877.73633615\n",
            " 874.11259776 882.80329521 910.83272081 897.42046305]\n"
          ]
        }
      ]
    },
    {
      "cell_type": "code",
      "source": [
        "print(x.shape,y.shape)"
      ],
      "metadata": {
        "colab": {
          "base_uri": "https://localhost:8080/"
        },
        "id": "SZ4ibx2tL72v",
        "outputId": "295f9bb8-5196-4c65-e513-d9bf8dc08555"
      },
      "execution_count": null,
      "outputs": [
        {
          "output_type": "stream",
          "name": "stdout",
          "text": [
            "(49,) (49,)\n"
          ]
        }
      ]
    },
    {
      "cell_type": "code",
      "source": [
        "x=x.reshape(len(x),1)\n",
        "y=y.reshape(len(y),1)\n",
        "print(x.shape,y.shape)"
      ],
      "metadata": {
        "colab": {
          "base_uri": "https://localhost:8080/"
        },
        "id": "HUDuNTN6NbHO",
        "outputId": "f36ae9a6-e70c-49d7-cee9-6fdecad1095e"
      },
      "execution_count": null,
      "outputs": [
        {
          "output_type": "stream",
          "name": "stdout",
          "text": [
            "(49, 1) (49, 1)\n"
          ]
        }
      ]
    },
    {
      "cell_type": "code",
      "source": [
        "plt.scatter(x,y,marker='x',c='red')"
      ],
      "metadata": {
        "colab": {
          "base_uri": "https://localhost:8080/",
          "height": 447
        },
        "id": "9VPR5Q-tNvDG",
        "outputId": "ada3ca39-de27-4c2d-a262-11d9cdb6b05a"
      },
      "execution_count": null,
      "outputs": [
        {
          "output_type": "execute_result",
          "data": {
            "text/plain": [
              "<matplotlib.collections.PathCollection at 0x7f178f6bba90>"
            ]
          },
          "metadata": {},
          "execution_count": 33
        },
        {
          "output_type": "display_data",
          "data": {
            "text/plain": [
              "<Figure size 640x480 with 1 Axes>"
            ],
            "image/png": "[encoded data removed]"
          },
          "metadata": {}
        }
      ]
    },
    {
      "cell_type": "markdown",
      "source": [
        "**Splitting the dataset into train,validation and test**"
      ],
      "metadata": {
        "id": "fj8QkVAHOOyG"
      }
    },
    {
      "cell_type": "code",
      "source": [
        "# using train_test_split function\n",
        "\n",
        "X_train,X,Y_train,Y= train_test_split(x,y,test_size=0.40,random_state=1)\n",
        "X_test,X_val,Y_test,Y_val= train_test_split(X,Y,test_size=0.5,random_state=1)\n",
        "\n",
        "del X,Y\n",
        "\n",
        "print('shape of training set:',X_train.shape,Y_train.shape)\n",
        "print('shape of validation set:',X_val.shape,Y_val.shape)\n",
        "print('shape of test set:',X_test.shape,Y_test.shape)"
      ],
      "metadata": {
        "colab": {
          "base_uri": "https://localhost:8080/"
        },
        "id": "dI8XwSbsOAGF",
        "outputId": "2ffd9ee4-218f-409e-e2fd-911314ac210c"
      },
      "execution_count": null,
      "outputs": [
        {
          "output_type": "stream",
          "name": "stdout",
          "text": [
            "shape of training set: (29, 1) (29, 1)\n",
            "shape of validation set: (10, 1) (10, 1)\n",
            "shape of test set: (10, 1) (10, 1)\n"
          ]
        }
      ]
    },
    {
      "cell_type": "code",
      "source": [
        "#normalization or feature scaling\n",
        "\n",
        "scaler_linear= StandardScaler()\n",
        "\n",
        "x_ntrain= scaler_linear.fit_transform(X_train)\n",
        "print(x_ntrain)"
      ],
      "metadata": {
        "colab": {
          "base_uri": "https://localhost:8080/"
        },
        "id": "c7tsQUMoPffG",
        "outputId": "d50a4ae6-bcec-4dc7-e597-af63598a51ca"
      },
      "execution_count": null,
      "outputs": [
        {
          "output_type": "stream",
          "name": "stdout",
          "text": [
            "[[ 1.37465111]\n",
            " [-0.2481671 ]\n",
            " [ 1.65688036]\n",
            " [ 0.24573409]\n",
            " [ 0.17517678]\n",
            " [-1.16541218]\n",
            " [ 0.8101926 ]\n",
            " [-0.45983904]\n",
            " [-0.7420683 ]\n",
            " [ 0.52796335]\n",
            " [ 1.8685523 ]\n",
            " [ 0.88074991]\n",
            " [-0.17760979]\n",
            " [-0.03649516]\n",
            " [ 0.31629141]\n",
            " [-1.02429755]\n",
            " [-0.95374024]\n",
            " [ 1.79799499]\n",
            " [-1.37708412]\n",
            " [-0.31872442]\n",
            " [-1.44764143]\n",
            " [-0.38928173]\n",
            " [-1.09485486]\n",
            " [-0.67151098]\n",
            " [-0.81262561]\n",
            " [-0.88318292]\n",
            " [-0.60095367]\n",
            " [ 1.58632305]\n",
            " [ 1.16297917]]\n"
          ]
        }
      ]
    },
    {
      "cell_type": "code",
      "source": [
        "plt.scatter(x_ntrain,Y_train, marker='x', c='red')"
      ],
      "metadata": {
        "colab": {
          "base_uri": "https://localhost:8080/",
          "height": 447
        },
        "id": "k_PMp8oRRftb",
        "outputId": "77b685c6-0800-4685-d1d0-ad4235f492c4"
      },
      "execution_count": null,
      "outputs": [
        {
          "output_type": "execute_result",
          "data": {
            "text/plain": [
              "<matplotlib.collections.PathCollection at 0x7f178f5bb550>"
            ]
          },
          "metadata": {},
          "execution_count": 38
        },
        {
          "output_type": "display_data",
          "data": {
            "text/plain": [
              "<Figure size 640x480 with 1 Axes>"
            ],
            "image/png": "[encoded data removed]"
          },
          "metadata": {}
        }
      ]
    },
    {
      "cell_type": "code",
      "source": [
        "linear_model= LinearRegression()\n",
        "\n",
        "linear_model.fit(x_ntrain,Y_train)"
      ],
      "metadata": {
        "colab": {
          "base_uri": "https://localhost:8080/",
          "height": 74
        },
        "id": "09kK5XdvR6kQ",
        "outputId": "6088533f-f9a8-46cc-9f79-cf14bbfde1fb"
      },
      "execution_count": null,
      "outputs": [
        {
          "output_type": "execute_result",
          "data": {
            "text/plain": [
              "LinearRegression()"
            ],
            "text/html": [
              "<style>#sk-container-id-1 {color: black;}#sk-container-id-1 pre{padding: 0;}#sk-container-id-1 div.sk-toggleable {background-color: white;}#sk-container-id-1 label.sk-toggleable__label {cursor: pointer;display: block;width: 100%;margin-bottom: 0;padding: 0.3em;box-sizing: border-box;text-align: center;}#sk-container-id-1 label.sk-toggleable__label-arrow:before {content: \"▸\";float: left;margin-right: 0.25em;color: #696969;}#sk-container-id-1 label.sk-toggleable__label-arrow:hover:before {color: black;}#sk-container-id-1 div.sk-estimator:hover label.sk-toggleable__label-arrow:before {color: black;}#sk-container-id-1 div.sk-toggleable__content {max-height: 0;max-width: 0;overflow: hidden;text-align: left;background-color: #f0f8ff;}#sk-container-id-1 div.sk-toggleable__content pre {margin: 0.2em;color: black;border-radius: 0.25em;background-color: #f0f8ff;}#sk-container-id-1 input.sk-toggleable__control:checked~div.sk-toggleable__content {max-height: 200px;max-width: 100%;overflow: auto;}#sk-container-id-1 input.sk-toggleable__control:checked~label.sk-toggleable__label-arrow:before {content: \"▾\";}#sk-container-id-1 div.sk-estimator input.sk-toggleable__control:checked~label.sk-toggleable__label {background-color: #d4ebff;}#sk-container-id-1 div.sk-label input.sk-toggleable__control:checked~label.sk-toggleable__label {background-color: #d4ebff;}#sk-container-id-1 input.sk-hidden--visually {border: 0;clip: rect(1px 1px 1px 1px);clip: rect(1px, 1px, 1px, 1px);height: 1px;margin: -1px;overflow: hidden;padding: 0;position: absolute;width: 1px;}#sk-container-id-1 div.sk-estimator {font-family: monospace;background-color: #f0f8ff;border: 1px dotted black;border-radius: 0.25em;box-sizing: border-box;margin-bottom: 0.5em;}#sk-container-id-1 div.sk-estimator:hover {background-color: #d4ebff;}#sk-container-id-1 div.sk-parallel-item::after {content: \"\";width: 100%;border-bottom: 1px solid gray;flex-grow: 1;}#sk-container-id-1 div.sk-label:hover label.sk-toggleable__label {background-color: #d4ebff;}#sk-container-id-1 div.sk-serial::before {content: \"\";position: absolute;border-left: 1px solid gray;box-sizing: border-box;top: 0;bottom: 0;left: 50%;z-index: 0;}#sk-container-id-1 div.sk-serial {display: flex;flex-direction: column;align-items: center;background-color: white;padding-right: 0.2em;padding-left: 0.2em;position: relative;}#sk-container-id-1 div.sk-item {position: relative;z-index: 1;}#sk-container-id-1 div.sk-parallel {display: flex;align-items: stretch;justify-content: center;background-color: white;position: relative;}#sk-container-id-1 div.sk-item::before, #sk-container-id-1 div.sk-parallel-item::before {content: \"\";position: absolute;border-left: 1px solid gray;box-sizing: border-box;top: 0;bottom: 0;left: 50%;z-index: -1;}#sk-container-id-1 div.sk-parallel-item {display: flex;flex-direction: column;z-index: 1;position: relative;background-color: white;}#sk-container-id-1 div.sk-parallel-item:first-child::after {align-self: flex-end;width: 50%;}#sk-container-id-1 div.sk-parallel-item:last-child::after {align-self: flex-start;width: 50%;}#sk-container-id-1 div.sk-parallel-item:only-child::after {width: 0;}#sk-container-id-1 div.sk-dashed-wrapped {border: 1px dashed gray;margin: 0 0.4em 0.5em 0.4em;box-sizing: border-box;padding-bottom: 0.4em;background-color: white;}#sk-container-id-1 div.sk-label label {font-family: monospace;font-weight: bold;display: inline-block;line-height: 1.2em;}#sk-container-id-1 div.sk-label-container {text-align: center;}#sk-container-id-1 div.sk-container {/* jupyter's `normalize.less` sets `[hidden] { display: none; }` but bootstrap.min.css set `[hidden] { display: none !important; }` so we also need the `!important` here to be able to override the default hidden behavior on the sphinx rendered scikit-learn.org. See: https://github.com/scikit-learn/scikit-learn/issues/21755 */display: inline-block !important;position: relative;}#sk-container-id-1 div.sk-text-repr-fallback {display: none;}</style><div id=\"sk-container-id-1\" class=\"sk-top-container\"><div class=\"sk-text-repr-fallback\"><pre>LinearRegression()</pre><b>In a Jupyter environment, please rerun this cell to show the HTML representation or trust the notebook. <br />On GitHub, the HTML representation is unable to render, please try loading this page with nbviewer.org.</b></div><div class=\"sk-container\" hidden><div class=\"sk-item\"><div class=\"sk-estimator sk-toggleable\"><input class=\"sk-toggleable__control sk-hidden--visually\" id=\"sk-estimator-id-1\" type=\"checkbox\" checked><label for=\"sk-estimator-id-1\" class=\"sk-toggleable__label sk-toggleable__label-arrow\">LinearRegression</label><div class=\"sk-toggleable__content\"><pre>LinearRegression()</pre></div></div></div></div></div>"
            ]
          },
          "metadata": {},
          "execution_count": 39
        }
      ]
    },
    {
      "cell_type": "code",
      "source": [
        "yhat= linear_model.predict(x_ntrain)\n",
        "\n",
        "print(mean_squared_error(Y_train,yhat)/2)"
      ],
      "metadata": {
        "colab": {
          "base_uri": "https://localhost:8080/"
        },
        "id": "yGCI6VbmSSGZ",
        "outputId": "ed54a102-1a6c-4d69-b828-fa7279d2ad98"
      },
      "execution_count": null,
      "outputs": [
        {
          "output_type": "stream",
          "name": "stdout",
          "text": [
            "333.38532759495934\n"
          ]
        }
      ]
    },
    {
      "cell_type": "code",
      "source": [
        "# loop implementaion\n",
        "\n",
        "error=0\n",
        "\n",
        "for i in range(len(yhat)):\n",
        "  error += (yhat[i]-Y_train[i])**2\n",
        "\n",
        "error= error/(2*len(yhat))\n",
        "error"
      ],
      "metadata": {
        "colab": {
          "base_uri": "https://localhost:8080/"
        },
        "id": "xXiCUJe0WLIx",
        "outputId": "499c7d0b-a948-4c88-e986-69b64e5fd386"
      },
      "execution_count": null,
      "outputs": [
        {
          "output_type": "execute_result",
          "data": {
            "text/plain": [
              "array([333.38532759])"
            ]
          },
          "metadata": {},
          "execution_count": 43
        }
      ]
    },
    {
      "cell_type": "markdown",
      "source": [
        "You can then compute the MSE for the cross validation set with basically the same equation:\n",
        "\n",
        "$$J_{cv}(\\vec{w}, b) = \\frac{1}{2m_{cv}}\\left[\\sum_{i=1}^{m_{cv}}(f_{\\vec{w},b}(\\vec{x}_{cv}^{(i)}) - y_{cv}^{(i)})^2\\right]$$\n",
        "\n",
        "As with the training set, you will also want to scale the cross validation set. An *important* thing to note when using the z-score is you have to use the mean and standard deviation of the **training set** when scaling the cross validation set. This is to ensure that your input features are transformed as expected by the model. One way to gain intuition is with this scenario:\n",
        "\n",
        "* Say that your training set has an input feature equal to `500` which is scaled down to `0.5` using the z-score.\n",
        "* After training, your model is able to accurately map this scaled input `x=0.5` to the target output `y=300`.\n",
        "* Now let's say that you deployed this model and one of your users fed it a sample equal to `500`.\n",
        "* If you get this input sample's z-score using any other values of the mean and standard deviation, then it might not be scaled to `0.5` and your model will most likely make a wrong prediction (i.e. not equal to `y=300`).\n",
        "\n",
        "You will scale the cross validation set below by using the same `StandardScaler` you used earlier but only calling its [`transform()`](https://scikit-learn.org/stable/modules/generated/sklearn.preprocessing.StandardScaler.html#sklearn.preprocessing.StandardScaler.transform) method instead of [`fit_transform()`](https://scikit-learn.org/stable/modules/generated/sklearn.preprocessing.StandardScaler.html#sklearn.preprocessing.StandardScaler.fit_transform)."
      ],
      "metadata": {
        "id": "sUQ-I5hlXS8R"
      }
    },
    {
      "cell_type": "code",
      "source": [
        "x_valn= scaler_linear.transform(X_val)\n",
        "yhat=linear_model.predict(x_valn)\n",
        "print(f\"Mean used to scale the CV set: {scaler_linear.mean_.squeeze():.2f}\")\n",
        "print(f\"Standard deviation used to scale the CV set: {scaler_linear.scale_.squeeze():.2f}\")\n",
        "\n",
        "print(mean_squared_error(Y_val,yhat)/2)"
      ],
      "metadata": {
        "colab": {
          "base_uri": "https://localhost:8080/"
        },
        "id": "Y1Pl4PXcXkcE",
        "outputId": "7dcdc23f-58a6-4766-e365-f363130c9eb0"
      },
      "execution_count": null,
      "outputs": [
        {
          "output_type": "stream",
          "name": "stdout",
          "text": [
            "Mean used to scale the CV set: 2529.25\n",
            "Standard deviation used to scale the CV set: 578.48\n",
            "470.3063689174919\n"
          ]
        }
      ]
    },
    {
      "cell_type": "code",
      "source": [
        "# generating polynomial features\n",
        "\n",
        "poly =PolynomialFeatures(degree=2, include_bias= False)\n",
        "\n",
        "x_train_mapped= poly.fit_transform(X_train)\n",
        "print(x_train_mapped)"
      ],
      "metadata": {
        "id": "ZsoXMU71ZVbM",
        "colab": {
          "base_uri": "https://localhost:8080/"
        },
        "outputId": "15b98933-8196-460a-d3b1-d324b6140511"
      },
      "execution_count": 47,
      "outputs": [
        {
          "output_type": "stream",
          "name": "stdout",
          "text": [
            "[[3.32446939e+03 1.10520967e+07]\n",
            " [2.38569388e+03 5.69153528e+06]\n",
            " [3.48773469e+03 1.21642933e+07]\n",
            " [2.67140816e+03 7.13642157e+06]\n",
            " [2.63059184e+03 6.92001341e+06]\n",
            " [1.85508163e+03 3.44132786e+06]\n",
            " [2.99793878e+03 8.98763690e+06]\n",
            " [2.26324490e+03 5.12227747e+06]\n",
            " [2.09997959e+03 4.40991429e+06]\n",
            " [2.83467347e+03 8.03537368e+06]\n",
            " [3.61018367e+03 1.30334262e+07]\n",
            " [3.03875510e+03 9.23403257e+06]\n",
            " [2.42651020e+03 5.88795177e+06]\n",
            " [2.50814286e+03 6.29078059e+06]\n",
            " [2.71222449e+03 7.35616168e+06]\n",
            " [1.93671429e+03 3.75086222e+06]\n",
            " [1.97753061e+03 3.91062732e+06]\n",
            " [3.56936735e+03 1.27403833e+07]\n",
            " [1.73263265e+03 3.00201591e+06]\n",
            " [2.34487755e+03 5.49845073e+06]\n",
            " [1.69181633e+03 2.86224248e+06]\n",
            " [2.30406122e+03 5.30869813e+06]\n",
            " [1.89589796e+03 3.59442907e+06]\n",
            " [2.14079592e+03 4.58300716e+06]\n",
            " [2.05916327e+03 4.24015335e+06]\n",
            " [2.01834694e+03 4.07372437e+06]\n",
            " [2.18161224e+03 4.75943199e+06]\n",
            " [3.44691837e+03 1.18812462e+07]\n",
            " [3.20202041e+03 1.02529347e+07]]\n"
          ]
        }
      ]
    },
    {
      "cell_type": "code",
      "source": [
        "scaler_poly= StandardScaler()\n",
        "\n",
        "x_train_mapped_scaled= scaler_poly.fit_transform(x_train_mapped)\n",
        "print(x_train_mapped_scaled\n",
        "      )"
      ],
      "metadata": {
        "colab": {
          "base_uri": "https://localhost:8080/"
        },
        "id": "vLCMV1c-bGKo",
        "outputId": "ce2caabd-b163-4073-e283-9f24328d026a"
      },
      "execution_count": 50,
      "outputs": [
        {
          "output_type": "stream",
          "name": "stdout",
          "text": [
            "[[ 1.37465111  1.39477385]\n",
            " [-0.2481671  -0.33583093]\n",
            " [ 1.65688036  1.75383563]\n",
            " [ 0.24573409  0.13063646]\n",
            " [ 0.17517678  0.0607712 ]\n",
            " [-1.16541218 -1.06228837]\n",
            " [ 0.8101926   0.72828321]\n",
            " [-0.45983904 -0.51961025]\n",
            " [-0.7420683  -0.74958973]\n",
            " [ 0.52796335  0.42085435]\n",
            " [ 1.8685523   2.03442666]\n",
            " [ 0.88074991  0.80782964]\n",
            " [-0.17760979 -0.27241979]\n",
            " [-0.03649516 -0.14237045]\n",
            " [ 0.31629141  0.2015774 ]\n",
            " [-1.02429755 -0.96235823]\n",
            " [-0.95374024 -0.91077963]\n",
            " [ 1.79799499  1.93982063]\n",
            " [-1.37708412 -1.20411593]\n",
            " [-0.31872442 -0.39816639]\n",
            " [-1.44764143 -1.24924042]\n",
            " [-0.38928173 -0.45942616]\n",
            " [-1.09485486 -1.01286114]\n",
            " [-0.67151098 -0.69370838]\n",
            " [-0.81262561 -0.80439538]\n",
            " [-0.88318292 -0.85812535]\n",
            " [-0.60095367 -0.63675136]\n",
            " [ 1.58632305  1.66245665]\n",
            " [ 1.16297917  1.13677221]]\n"
          ]
        }
      ]
    },
    {
      "cell_type": "code",
      "source": [
        "model= LinearRegression()\n",
        "model.fit(x_train_mapped_scaled,Y_train)\n",
        "\n",
        "yhat= model.predict(x_train_mapped_scaled)\n",
        "print(mean_squared_error(yhat,Y_train)/2)\n"
      ],
      "metadata": {
        "colab": {
          "base_uri": "https://localhost:8080/"
        },
        "id": "abtJGMpNbbJL",
        "outputId": "8e0db8cb-9e52-4060-cce0-39bdd5c369c5"
      },
      "execution_count": 53,
      "outputs": [
        {
          "output_type": "stream",
          "name": "stdout",
          "text": [
            "54.667273605095176\n"
          ]
        }
      ]
    },
    {
      "cell_type": "code",
      "source": [
        "X_val_mapped=poly.transform(X_val)\n",
        "X_val_mapped_scaled= scaler_poly.transform(X_val_mapped)\n",
        "yhat= model.predict(X_val_mapped_scaled)\n",
        "\n",
        "print(mean_squared_error(Y_val,yhat)/2)"
      ],
      "metadata": {
        "colab": {
          "base_uri": "https://localhost:8080/"
        },
        "id": "5AVTpFi5d4iW",
        "outputId": "c5e8ed35-6af3-4f28-9d45-635b7a186463"
      },
      "execution_count": 56,
      "outputs": [
        {
          "output_type": "stream",
          "name": "stdout",
          "text": [
            "29.327408643439167\n"
          ]
        }
      ]
    },
    {
      "cell_type": "markdown",
      "source": [
        "**Creating more polynomials and finding the best one**"
      ],
      "metadata": {
        "id": "vHDIbHLzhGs7"
      }
    },
    {
      "cell_type": "code",
      "source": [
        "train_mses = []\n",
        "cv_mses = []\n",
        "models = []\n",
        "polys = []\n",
        "scalers = []\n",
        "\n",
        "for degree in range (1,11):\n",
        "  poly= PolynomialFeatures(degree,include_bias=False)\n",
        "  X_train_mapped= poly.fit_transform(X_train)\n",
        "  polys.append(poly)\n",
        "\n",
        "  Scaler_poly= StandardScaler()\n",
        "  X_train_mapped_scaled= Scaler_poly.fit_transform(X_train_mapped)\n",
        "  scalers.append(Scaler_poly)\n",
        "\n",
        "  model=LinearRegression()\n",
        "  model.fit(X_train_mapped_scaled,Y_train)\n",
        "\n",
        "  models.append(model)\n",
        "\n",
        "  yhat= model.predict(X_train_mapped_scaled)\n",
        "  mse_train= mean_squared_error(Y_train,yhat)/2\n",
        "  train_mses.append(mse_train)\n",
        "\n",
        "  X_val_mapped= poly.transform(X_val)\n",
        "  X_val_mapped_scaled= Scaler_poly.transform(X_val_mapped)\n",
        "\n",
        "  yhat = model.predict(X_val_mapped_scaled)\n",
        "\n",
        "  cv_mse= mean_squared_error(Y_val,yhat)/2\n",
        "  cv_mses.append(cv_mse)\n"
      ],
      "metadata": {
        "id": "ja5UyedpfZhV"
      },
      "execution_count": 62,
      "outputs": []
    },
    {
      "cell_type": "code",
      "source": [
        "#selecting the best model\n",
        "print(cv_mses)\n",
        "degree= np.argmin(cv_mses)+1\n",
        "degree"
      ],
      "metadata": {
        "colab": {
          "base_uri": "https://localhost:8080/"
        },
        "id": "l8kq53v9kojI",
        "outputId": "fa492045-7fa3-45b5-9df4-6d26de3219e3"
      },
      "execution_count": 63,
      "outputs": [
        {
          "output_type": "stream",
          "name": "stdout",
          "text": [
            "[470.3063689174919, 29.327408643439167, 26.61299889077892, 24.58794793297472, 21.362012012117418, 63.317111010045025, 80.03797517257992, 115.97511481094568, 100.37295389696577, 71.04727343994645]\n"
          ]
        },
        {
          "output_type": "execute_result",
          "data": {
            "text/plain": [
              "5"
            ]
          },
          "metadata": {},
          "execution_count": 63
        }
      ]
    },
    {
      "cell_type": "code",
      "source": [
        "#test set\n",
        "X_test_mapped= polys[degree-1].transform(X_test)\n",
        "X_test_mapped_scaled= scalers[degree-1].transform(X_test_mapped)\n",
        "\n",
        "yhat= models[degree-1].predict(X_test_mapped_scaled)\n",
        "print(train_mses[degree-1])\n",
        "print(cv_mses[degree-1])\n",
        "print(mean_squared_error(Y_test,yhat))\n"
      ],
      "metadata": {
        "colab": {
          "base_uri": "https://localhost:8080/"
        },
        "id": "NEaA5g2ekwco",
        "outputId": "760d6488-da5c-44be-b463-4d05bd2f94cd"
      },
      "execution_count": 66,
      "outputs": [
        {
          "output_type": "stream",
          "name": "stdout",
          "text": [
            "53.16868421515819\n",
            "21.362012012117418\n",
            "276.4607945172785\n"
          ]
        }
      ]
    }
  ]
}